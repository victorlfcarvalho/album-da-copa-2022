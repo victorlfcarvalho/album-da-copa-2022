{
  "cells": [
    {
      "cell_type": "markdown",
      "metadata": {
        "id": "view-in-github",
        "colab_type": "text"
      },
      "source": [
        "<a href=\"https://colab.research.google.com/github/victorlfcarvalho/album-da-copa-2022/blob/main/%C3%81lbum_da_Copa_2022.ipynb\" target=\"_parent\"><img src=\"https://colab.research.google.com/assets/colab-badge.svg\" alt=\"Open In Colab\"/></a>"
      ]
    },
    {
      "cell_type": "markdown",
      "source": [
        "#Álbum da Copa do Mundo 2022\n"
      ],
      "metadata": {
        "id": "hGZaE9KpkgTY"
      }
    },
    {
      "cell_type": "markdown",
      "source": [
        "## Perguntas:\n",
        "\n",
        "####1. Quanto custa, em média, para completar o álbum?\n",
        "####2. Quantos pacotes, em média, são necessários para completar o álbum?\n",
        "####3. Qual a probabilidade de se gastar menos que a média para completar o álbum?\n",
        "####4. Qual o valor médio gasto caso se esteja completando o álbum com 10 amigos?"
      ],
      "metadata": {
        "id": "b8osJWPpl7tN"
      }
    },
    {
      "cell_type": "code",
      "source": [
        "#Informações gerais sobre o álbum (média nos valores monetários)\n",
        "n_album = 670\n",
        "preco_album = 12\n",
        "preco_pacote = 4\n",
        "cromos_pacote = 5"
      ],
      "metadata": {
        "id": "oQ4U6d37kkU0"
      },
      "execution_count": 5,
      "outputs": []
    },
    {
      "cell_type": "code",
      "source": [
        "#Importando a biblioteca as bibliotecas\n",
        "import numpy as np\n",
        "import matplotlib.pyplot as plt\n"
      ],
      "metadata": {
        "id": "VYNUN1NFl3mX"
      },
      "execution_count": 6,
      "outputs": []
    },
    {
      "cell_type": "code",
      "source": [
        "# Comprando figurinhas até completar o álbum\n",
        "def SimulaAlbum():\n",
        "  album = np.zeros(n_album)\n",
        "  pacotes = 0\n",
        "  while True:\n",
        "    pacotinho = np.random.choice(np.arange(0, n_album), size = 5)\n",
        "    pacotes += 1\n",
        "    for i in [pacotinho]:\n",
        "      album[i] += 1\n",
        "\n",
        "    if np.all(album >= 1):\n",
        "      break\n",
        "\n",
        "#determinando custo do pacote\n",
        "  custo = pacotes * preco_pacote + preco_album\n",
        "  return custo, pacotes\n",
        "\n",
        "SimulaAlbum()"
      ],
      "metadata": {
        "id": "cmSPd-tsS6V8",
        "colab": {
          "base_uri": "https://localhost:8080/"
        },
        "outputId": "ae57bd97-722b-4450-c0c0-2d5b6c72d63c"
      },
      "execution_count": 7,
      "outputs": [
        {
          "output_type": "execute_result",
          "data": {
            "text/plain": [
              "(4172, 1040)"
            ]
          },
          "metadata": {},
          "execution_count": 7
        }
      ]
    },
    {
      "cell_type": "code",
      "source": [
        "simulacoes = 10000\n",
        "resultados = []\n",
        "\n",
        "for i in range(simulacoes):\n",
        "  resultados.append(SimulaAlbum()[0])\n",
        "np.array(resultados).mean()\n",
        "\n",
        "sim = np.array(resultados)"
      ],
      "metadata": {
        "id": "lv6GESzedPse"
      },
      "execution_count": 8,
      "outputs": []
    },
    {
      "cell_type": "code",
      "source": [
        "#questões 1 e 2\n",
        "\n",
        "print('O valor médio gasto foi: ', round(np.array(sim).mean(),2))\n",
        "print('O número de pacotes médio foi: ', round((np.array(sim).mean() - preco_album) / preco_pacote, 2))"
      ],
      "metadata": {
        "colab": {
          "base_uri": "https://localhost:8080/"
        },
        "id": "yUcJsPqhmOcH",
        "outputId": "32665441-e325-416c-bb76-60cab9435369"
      },
      "execution_count": 9,
      "outputs": [
        {
          "output_type": "stream",
          "name": "stdout",
          "text": [
            "O valor médio gasto foi:  3805.64\n",
            "O número de pacotes médio foi:  948.41\n"
          ]
        }
      ]
    },
    {
      "cell_type": "code",
      "source": [
        "plt.hist(sim, bins = 20, density = True, color = 'royalblue', edgecolor = 'black')\n",
        "plt.title('Distribuição Empírica do Valor Gasto\\n para Completar o Álbum')\n",
        "plt.show()"
      ],
      "metadata": {
        "colab": {
          "base_uri": "https://localhost:8080/",
          "height": 298
        },
        "id": "zHq_owajjqGA",
        "outputId": "0c28a3b6-f349-4119-e655-57965aae63fe"
      },
      "execution_count": 10,
      "outputs": [
        {
          "output_type": "display_data",
          "data": {
            "text/plain": [
              "<Figure size 432x288 with 1 Axes>"
            ],
            "image/png": "[encoded data removed]"
          },
          "metadata": {
            "needs_background": "light"
          }
        }
      ]
    },
    {
      "cell_type": "code",
      "source": [
        "#questão 3 > probabilidade de gastar menos que a média\n",
        "\n",
        "prob1 = sum(np.array(sim) < np.array(sim).mean() ) / simulacoes\n",
        "prob2 = sum(np.array(sim) > np.array(sim).mean() ) / simulacoes\n",
        "\n",
        "\n",
        "print('A probabilidade de se gastar menos que a média é {:.2f}%'.format(prob1*100))\n",
        "print('A probabilidade de se gastar mais que a média é {:.2f}%'.format(prob2*100))\n"
      ],
      "metadata": {
        "colab": {
          "base_uri": "https://localhost:8080/"
        },
        "id": "EwX76F15pZ3h",
        "outputId": "933ec85c-669e-43de-c863-8f4aac385fab"
      },
      "execution_count": 11,
      "outputs": [
        {
          "output_type": "stream",
          "name": "stdout",
          "text": [
            "A probabilidade de se gastar menos que a média é 57.59%\n",
            "A probabilidade de se gastar mais que a média é 42.41%\n"
          ]
        }
      ]
    },
    {
      "cell_type": "markdown",
      "source": [
        "##Custo se tivermos 10 amigos para trocar figurinhas "
      ],
      "metadata": {
        "id": "08kIrD_IL6yi"
      }
    },
    {
      "cell_type": "code",
      "source": [
        "def SimulaAmigos1(n_amigos):\n",
        "  album = np.zeros(n_album)\n",
        "  pacotes = 0\n",
        "  while True:\n",
        "    pacotinho = np.random.choice(np.arange(0, n_album), size = 5)\n",
        "    pacotes += 1\n",
        "    for i in [pacotinho]:\n",
        "      album[i] += 1\n",
        "\n",
        "    if np.all(album >= n_amigos):\n",
        "      break\n",
        "\n",
        "  custo = pacotes * preco_pacote + preco_album\n",
        "  return custo/n_amigos\n",
        "\n",
        "#Para 10 amigos trocando figurinhas\n",
        "SimulaAmigos1(10)"
      ],
      "metadata": {
        "id": "UAtYQYqbfGrZ",
        "colab": {
          "base_uri": "https://localhost:8080/"
        },
        "outputId": "097f730f-0862-4b15-f432-86c2bea04997"
      },
      "execution_count": 12,
      "outputs": [
        {
          "output_type": "execute_result",
          "data": {
            "text/plain": [
              "1163.6"
            ]
          },
          "metadata": {},
          "execution_count": 12
        }
      ]
    },
    {
      "cell_type": "code",
      "source": [
        "simulacoes1 = 10000\n",
        "resultados1 = []\n",
        "\n",
        "for i in range(simulacoes1):\n",
        "  resultados1.append(SimulaAmigos1(10))\n",
        "np.array(resultados1).mean()\n",
        "\n",
        "sim1 = np.array(resultados1)\n",
        "\n",
        "#questão 4\n",
        "print('O valor médio gasto para 10 amigos: ', round(np.array(sim1).mean(),2))"
      ],
      "metadata": {
        "id": "KOGnuXu_Ipd_",
        "colab": {
          "base_uri": "https://localhost:8080/"
        },
        "outputId": "f2927d8e-ac01-424d-fe85-f6e0b18e148a"
      },
      "execution_count": 13,
      "outputs": [
        {
          "output_type": "stream",
          "name": "stdout",
          "text": [
            "O valor médio gasto para 10 amigos:  1229.91\n"
          ]
        }
      ]
    }
  ],
  "metadata": {
    "colab": {
      "provenance": [],
      "collapsed_sections": [],
      "authorship_tag": "ABX9TyMc6QYB8LOAz+OMM//2kDGx",
      "include_colab_link": true
    },
    "kernelspec": {
      "display_name": "Python 3",
      "name": "python3"
    },
    "language_info": {
      "name": "python"
    }
  },
  "nbformat": 4,
  "nbformat_minor": 0
}